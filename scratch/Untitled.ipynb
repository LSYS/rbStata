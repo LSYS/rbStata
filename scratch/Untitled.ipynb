{
 "cells": [
  {
   "cell_type": "code",
   "execution_count": 1,
   "id": "a81125f9",
   "metadata": {
    "ExecuteTime": {
     "end_time": "2022-09-06T07:19:55.454600Z",
     "start_time": "2022-09-06T07:19:55.448650Z"
    }
   },
   "outputs": [],
   "source": [
    "from pathlib import Path"
   ]
  },
  {
   "cell_type": "code",
   "execution_count": 29,
   "id": "3bebcee7",
   "metadata": {
    "ExecuteTime": {
     "end_time": "2022-09-06T07:25:42.592193Z",
     "start_time": "2022-09-06T07:25:42.585745Z"
    }
   },
   "outputs": [
    {
     "data": {
      "text/plain": [
       "'census.dta'"
      ]
     },
     "execution_count": 29,
     "metadata": {},
     "output_type": "execute_result"
    }
   ],
   "source": [
    "def normalize_dta_filename(filename):\n",
    "    \"\"\"Ensure that string for filename to write to is normalize with .dta extension.\"\"\"\n",
    "    dta_filename = Path(filename)\n",
    "    if dta_filename.suffix!='dta':\n",
    "        dta_filename = ''.join([filename, '.dta'])\n",
    "    return dta_filename\n",
    "\n",
    "normalize_dta_filename('census')"
   ]
  },
  {
   "cell_type": "code",
   "execution_count": 30,
   "id": "851bc059",
   "metadata": {
    "ExecuteTime": {
     "end_time": "2022-09-06T07:25:43.439852Z",
     "start_time": "2022-09-06T07:25:43.434396Z"
    }
   },
   "outputs": [
    {
     "data": {
      "text/plain": [
       "'datas/census.dta'"
      ]
     },
     "execution_count": 30,
     "metadata": {},
     "output_type": "execute_result"
    }
   ],
   "source": [
    "normalize_dta_filename('datas/census')"
   ]
  },
  {
   "cell_type": "code",
   "execution_count": 3,
   "id": "50dd1c87",
   "metadata": {
    "ExecuteTime": {
     "end_time": "2022-09-06T07:20:20.697836Z",
     "start_time": "2022-09-06T07:20:20.694364Z"
    }
   },
   "outputs": [],
   "source": [
    "filename = 'census'"
   ]
  },
  {
   "cell_type": "code",
   "execution_count": 11,
   "id": "0bb40810",
   "metadata": {
    "ExecuteTime": {
     "end_time": "2022-09-06T07:23:41.290174Z",
     "start_time": "2022-09-06T07:23:41.284221Z"
    }
   },
   "outputs": [
    {
     "data": {
      "text/plain": [
       "WindowsPath('datas/census')"
      ]
     },
     "execution_count": 11,
     "metadata": {},
     "output_type": "execute_result"
    }
   ],
   "source": [
    "dta_filename = Path('datas/census')\n",
    "dta_filename"
   ]
  },
  {
   "cell_type": "code",
   "execution_count": 33,
   "id": "9260e1c6",
   "metadata": {
    "ExecuteTime": {
     "end_time": "2022-09-06T07:32:06.613619Z",
     "start_time": "2022-09-06T07:32:06.608163Z"
    }
   },
   "outputs": [
    {
     "data": {
      "text/plain": [
       "WindowsPath('xx/datas/census.dta')"
      ]
     },
     "execution_count": 33,
     "metadata": {},
     "output_type": "execute_result"
    }
   ],
   "source": [
    "dta_filename = Path('xx/datas/census.dta')\n",
    "dta_filename"
   ]
  },
  {
   "cell_type": "code",
   "execution_count": 35,
   "id": "5ef48dc5",
   "metadata": {
    "ExecuteTime": {
     "end_time": "2022-09-06T07:32:09.257782Z",
     "start_time": "2022-09-06T07:32:09.252822Z"
    }
   },
   "outputs": [
    {
     "data": {
      "text/plain": [
       "'.dta'"
      ]
     },
     "execution_count": 35,
     "metadata": {},
     "output_type": "execute_result"
    }
   ],
   "source": [
    "dta_filename.suffix"
   ]
  },
  {
   "cell_type": "code",
   "execution_count": 37,
   "id": "88841350",
   "metadata": {
    "ExecuteTime": {
     "end_time": "2022-09-06T07:32:39.000269Z",
     "start_time": "2022-09-06T07:32:38.995310Z"
    }
   },
   "outputs": [
    {
     "data": {
      "text/plain": [
       "'census.dta'"
      ]
     },
     "execution_count": 37,
     "metadata": {},
     "output_type": "execute_result"
    }
   ],
   "source": [
    "dta_filename.name"
   ]
  },
  {
   "cell_type": "code",
   "execution_count": 8,
   "id": "0259f0a0",
   "metadata": {
    "ExecuteTime": {
     "end_time": "2022-09-06T07:22:15.529401Z",
     "start_time": "2022-09-06T07:22:15.518984Z"
    }
   },
   "outputs": [
    {
     "ename": "AttributeError",
     "evalue": "can't set attribute",
     "output_type": "error",
     "traceback": [
      "\u001b[1;31m---------------------------------------------------------------------------\u001b[0m",
      "\u001b[1;31mAttributeError\u001b[0m                            Traceback (most recent call last)",
      "\u001b[1;32m<ipython-input-8-6fea6c9f38c0>\u001b[0m in \u001b[0;36m<module>\u001b[1;34m\u001b[0m\n\u001b[1;32m----> 1\u001b[1;33m \u001b[0mdta_filename\u001b[0m\u001b[1;33m.\u001b[0m\u001b[0msuffix\u001b[0m \u001b[1;33m=\u001b[0m \u001b[1;34m'test'\u001b[0m\u001b[1;33m\u001b[0m\u001b[1;33m\u001b[0m\u001b[0m\n\u001b[0m",
      "\u001b[1;31mAttributeError\u001b[0m: can't set attribute"
     ]
    }
   ],
   "source": [
    "dta_filename.suffix = 'test'"
   ]
  },
  {
   "cell_type": "code",
   "execution_count": 7,
   "id": "7e899e95",
   "metadata": {
    "ExecuteTime": {
     "end_time": "2022-09-06T07:21:16.014811Z",
     "start_time": "2022-09-06T07:21:16.009356Z"
    }
   },
   "outputs": [
    {
     "data": {
      "text/plain": [
       "'census'"
      ]
     },
     "execution_count": 7,
     "metadata": {},
     "output_type": "execute_result"
    }
   ],
   "source": [
    "dta_filename.stem"
   ]
  },
  {
   "cell_type": "code",
   "execution_count": 41,
   "id": "19f59edc",
   "metadata": {
    "ExecuteTime": {
     "end_time": "2022-09-06T07:45:58.278732Z",
     "start_time": "2022-09-06T07:45:54.829068Z"
    }
   },
   "outputs": [],
   "source": [
    "import pandas as pd"
   ]
  },
  {
   "cell_type": "code",
   "execution_count": 42,
   "id": "3b339bfc",
   "metadata": {
    "ExecuteTime": {
     "end_time": "2022-09-06T07:45:58.293116Z",
     "start_time": "2022-09-06T07:45:58.288157Z"
    }
   },
   "outputs": [],
   "source": [
    "def convert(input, output, version=13):\n",
    "    map_versions = {10: 114, \n",
    "                    11: 114, 13: 117, 14:118, 15: None, 16: None, 17: None}\n",
    "    version = map_versions[version]\n",
    "    dta = (pd.read_stata(input)\n",
    "           .to_stata(output, version=None)\n",
    "          )\n",
    "    "
   ]
  },
  {
   "cell_type": "code",
   "execution_count": 43,
   "id": "5f62e76b",
   "metadata": {
    "ExecuteTime": {
     "end_time": "2022-09-06T07:45:58.339244Z",
     "start_time": "2022-09-06T07:45:58.302044Z"
    }
   },
   "outputs": [],
   "source": [
    "convert('../datasets/census.dta', 'test.dta')"
   ]
  },
  {
   "cell_type": "code",
   "execution_count": 45,
   "id": "d52c96bb",
   "metadata": {
    "ExecuteTime": {
     "end_time": "2022-09-06T07:50:43.038302Z",
     "start_time": "2022-09-06T07:50:43.033345Z"
    }
   },
   "outputs": [
    {
     "name": "stdout",
     "output_type": "stream",
     "text": [
      "10\n",
      "11\n",
      "12\n",
      "13\n",
      "14\n",
      "15\n",
      "16\n",
      "17\n"
     ]
    }
   ],
   "source": [
    "for ver in range(10,17+1):\n",
    "    print(ver)"
   ]
  },
  {
   "cell_type": "code",
   "execution_count": 49,
   "id": "f1f366a0",
   "metadata": {
    "ExecuteTime": {
     "end_time": "2022-09-06T08:07:39.111190Z",
     "start_time": "2022-09-06T08:07:39.105142Z"
    }
   },
   "outputs": [
    {
     "data": {
      "text/plain": [
       "'census-v13.dta'"
      ]
     },
     "execution_count": 49,
     "metadata": {},
     "output_type": "execute_result"
    }
   ],
   "source": [
    "def add_suffix(filename, suffix):\n",
    "    filename, ext = filename.split('.')\n",
    "    filename = ''.join([filename, suffix, '.', ext])\n",
    "    return filename\n",
    "\n",
    "add_suffix('census.dta', suffix='-v13')"
   ]
  },
  {
   "cell_type": "code",
   "execution_count": 50,
   "id": "7c997591",
   "metadata": {
    "ExecuteTime": {
     "end_time": "2022-09-06T08:07:48.881773Z",
     "start_time": "2022-09-06T08:07:48.876317Z"
    }
   },
   "outputs": [
    {
     "data": {
      "text/plain": [
       "'dir/census-v13.dta'"
      ]
     },
     "execution_count": 50,
     "metadata": {},
     "output_type": "execute_result"
    }
   ],
   "source": [
    "add_suffix('dir/census.dta', suffix='-v13')"
   ]
  },
  {
   "cell_type": "code",
   "execution_count": 89,
   "id": "66b17c53",
   "metadata": {
    "ExecuteTime": {
     "end_time": "2022-09-06T08:14:21.362497Z",
     "start_time": "2022-09-06T08:14:21.357537Z"
    },
    "code_folding": []
   },
   "outputs": [],
   "source": [
    "def add_prefix(filename, prefix):\n",
    "    try:\n",
    "        _, filename = filename.split('/')\n",
    "        print(''.join(_))\n",
    "        filename = ''.join([_, '/', prefix, filename])\n",
    "    except ValueError:\n",
    "        filename = ''.join([prefix, filename])\n",
    "#     filename = ''.join([filename, suffix, '.', ext])\n",
    "\n",
    "    return filename"
   ]
  },
  {
   "cell_type": "code",
   "execution_count": 86,
   "id": "bea80f4d",
   "metadata": {
    "ExecuteTime": {
     "end_time": "2022-09-06T08:13:58.054030Z",
     "start_time": "2022-09-06T08:13:58.048574Z"
    }
   },
   "outputs": [
    {
     "data": {
      "text/plain": [
       "'v13-census.dta'"
      ]
     },
     "execution_count": 86,
     "metadata": {},
     "output_type": "execute_result"
    }
   ],
   "source": [
    "add_prefix('census.dta', prefix='v13-')"
   ]
  },
  {
   "cell_type": "code",
   "execution_count": 92,
   "id": "1bbf3e19",
   "metadata": {
    "ExecuteTime": {
     "end_time": "2022-09-06T08:14:31.259156Z",
     "start_time": "2022-09-06T08:14:31.252707Z"
    }
   },
   "outputs": [
    {
     "name": "stdout",
     "output_type": "stream",
     "text": [
      "dir\n"
     ]
    },
    {
     "data": {
      "text/plain": [
       "'dir/v13-census.dta'"
      ]
     },
     "execution_count": 92,
     "metadata": {},
     "output_type": "execute_result"
    }
   ],
   "source": [
    "add_prefix('dir/census.dta', prefix='v13-')"
   ]
  },
  {
   "cell_type": "code",
   "execution_count": 91,
   "id": "b73724a3",
   "metadata": {
    "ExecuteTime": {
     "end_time": "2022-09-06T08:14:24.589957Z",
     "start_time": "2022-09-06T08:14:24.584502Z"
    }
   },
   "outputs": [
    {
     "data": {
      "text/plain": [
       "'v13-fir/dir/census.dta'"
      ]
     },
     "execution_count": 91,
     "metadata": {},
     "output_type": "execute_result"
    }
   ],
   "source": [
    "add_prefix('fir/dir/census.dta', prefix='v13-')"
   ]
  },
  {
   "cell_type": "code",
   "execution_count": 95,
   "id": "30741620",
   "metadata": {
    "ExecuteTime": {
     "end_time": "2022-09-06T08:15:09.391531Z",
     "start_time": "2022-09-06T08:15:09.388059Z"
    }
   },
   "outputs": [],
   "source": [
    "_, p, filename = 'a/b/file'.split('/')"
   ]
  },
  {
   "cell_type": "code",
   "execution_count": 96,
   "id": "d000c9d4",
   "metadata": {
    "ExecuteTime": {
     "end_time": "2022-09-06T08:15:11.395369Z",
     "start_time": "2022-09-06T08:15:11.390408Z"
    }
   },
   "outputs": [
    {
     "data": {
      "text/plain": [
       "'a'"
      ]
     },
     "execution_count": 96,
     "metadata": {},
     "output_type": "execute_result"
    }
   ],
   "source": [
    "_"
   ]
  },
  {
   "cell_type": "code",
   "execution_count": null,
   "id": "9a1e77d4",
   "metadata": {},
   "outputs": [],
   "source": []
  }
 ],
 "metadata": {
  "kernelspec": {
   "display_name": "Python 3",
   "language": "python",
   "name": "python3"
  },
  "language_info": {
   "codemirror_mode": {
    "name": "ipython",
    "version": 3
   },
   "file_extension": ".py",
   "mimetype": "text/x-python",
   "name": "python",
   "nbconvert_exporter": "python",
   "pygments_lexer": "ipython3",
   "version": "3.8.8"
  },
  "toc": {
   "base_numbering": 1,
   "nav_menu": {},
   "number_sections": true,
   "sideBar": true,
   "skip_h1_title": false,
   "title_cell": "Table of Contents",
   "title_sidebar": "Contents",
   "toc_cell": false,
   "toc_position": {},
   "toc_section_display": true,
   "toc_window_display": false
  },
  "varInspector": {
   "cols": {
    "lenName": 16,
    "lenType": 16,
    "lenVar": 40
   },
   "kernels_config": {
    "python": {
     "delete_cmd_postfix": "",
     "delete_cmd_prefix": "del ",
     "library": "var_list.py",
     "varRefreshCmd": "print(var_dic_list())"
    },
    "r": {
     "delete_cmd_postfix": ") ",
     "delete_cmd_prefix": "rm(",
     "library": "var_list.r",
     "varRefreshCmd": "cat(var_dic_list()) "
    }
   },
   "types_to_exclude": [
    "module",
    "function",
    "builtin_function_or_method",
    "instance",
    "_Feature"
   ],
   "window_display": false
  }
 },
 "nbformat": 4,
 "nbformat_minor": 5
}
